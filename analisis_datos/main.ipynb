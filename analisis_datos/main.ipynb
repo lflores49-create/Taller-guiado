{
 "cells": [
  {
   "cell_type": "code",
   "execution_count": null,
   "id": "2cbe9a02",
   "metadata": {},
   "outputs": [],
   "source": [
    "import pandas as pd \n"
   ]
  },
  {
   "cell_type": "code",
   "execution_count": null,
   "id": "27e8ecc1",
   "metadata": {},
   "outputs": [],
   "source": [
    "ruta = r\"/workspaces/Taller-guiado/analisis_datos/fususd-2024-03-19-2024-03-20-m1.csv\" #r de ruta\n"
   ]
  },
  {
   "cell_type": "code",
   "execution_count": null,
   "id": "0ec737f5",
   "metadata": {},
   "outputs": [],
   "source": [
    "ruta"
   ]
  },
  {
   "cell_type": "code",
   "execution_count": null,
   "id": "e97373cb",
   "metadata": {},
   "outputs": [],
   "source": [
    "data = pd.read_csv(ruta)\n"
   ]
  },
  {
   "cell_type": "code",
   "execution_count": null,
   "id": "eb47fae1",
   "metadata": {},
   "outputs": [],
   "source": [
    "data\n"
   ]
  },
  {
   "cell_type": "code",
   "execution_count": null,
   "id": "e86b9533",
   "metadata": {},
   "outputs": [],
   "source": [
    "data.pct_change()"
   ]
  },
  {
   "cell_type": "code",
   "execution_count": null,
   "id": "59b71b8d",
   "metadata": {},
   "outputs": [],
   "source": [
    "retornos = data.pct_change()\n"
   ]
  },
  {
   "cell_type": "code",
   "execution_count": null,
   "id": "9c56efc5",
   "metadata": {},
   "outputs": [],
   "source": [
    "retornos.dropna(inplace=True)\n"
   ]
  },
  {
   "cell_type": "code",
   "execution_count": null,
   "id": "db5c4f26",
   "metadata": {},
   "outputs": [],
   "source": [
    "retornos\n"
   ]
  },
  {
   "cell_type": "code",
   "execution_count": null,
   "id": "ae2353d6",
   "metadata": {},
   "outputs": [],
   "source": [
    "data [\"diferencias\"] = data [\"close\"] - data [\"open\"]\n"
   ]
  },
  {
   "cell_type": "code",
   "execution_count": null,
   "id": "48833f3e",
   "metadata": {},
   "outputs": [],
   "source": [
    "data\n"
   ]
  }
 ],
 "metadata": {
  "kernelspec": {
   "display_name": "Python 3",
   "language": "python",
   "name": "python3"
  },
  "language_info": {
   "codemirror_mode": {
    "name": "ipython",
    "version": 3
   },
   "file_extension": ".py",
   "mimetype": "text/x-python",
   "name": "python",
   "nbconvert_exporter": "python",
   "pygments_lexer": "ipython3",
   "version": "3.12.1"
  }
 },
 "nbformat": 4,
 "nbformat_minor": 5
}
